{
 "cells": [
  {
   "cell_type": "markdown",
   "metadata": {},
   "source": [
    "#### Checking correct environment activated"
   ]
  },
  {
   "cell_type": "code",
   "execution_count": 1,
   "metadata": {},
   "outputs": [
    {
     "name": "stdout",
     "output_type": "stream",
     "text": [
      "C:\\Users\\zouru\\anaconda3\\envs\\tf-gpu\\python.exe\n"
     ]
    }
   ],
   "source": [
    "import sys\n",
    "print(sys.executable)"
   ]
  },
  {
   "cell_type": "markdown",
   "metadata": {},
   "source": [
    "#### Importing file readers"
   ]
  },
  {
   "cell_type": "code",
   "execution_count": 2,
   "metadata": {},
   "outputs": [],
   "source": [
    "import os\n",
    "import glob"
   ]
  },
  {
   "cell_type": "markdown",
   "metadata": {},
   "source": [
    "### Initialise helper functions & datetime"
   ]
  },
  {
   "cell_type": "code",
   "execution_count": 3,
   "metadata": {},
   "outputs": [],
   "source": [
    "# to measure how long algorithm takes\n",
    "from datetime import datetime\n",
    "\n",
    "#setting up helper functions\n",
    "def mapper(lst,f):\n",
    "    return list(map(lambda x:f(x),lst))\n",
    "\n",
    "def typecheck(*args):\n",
    "    for i in args:\n",
    "        print(type(i))"
   ]
  },
  {
   "cell_type": "markdown",
   "metadata": {},
   "source": [
    "#### Check curent base path"
   ]
  },
  {
   "cell_type": "markdown",
   "metadata": {},
   "source": [
    "from pathlib import Path\n",
    "\n",
    "path = Path().parent.absolute()\n",
    "path"
   ]
  },
  {
   "cell_type": "markdown",
   "metadata": {},
   "source": [
    "dir = 'new_zoom\\\\rz_pos5_white2'\n",
    "\n",
    "#file_dir = os.path.abspath('new.txt')\n",
    "a = os.path.join(os.path.normpath(dir), 'test.txt')\n",
    "\n",
    "'More work by user'\n",
    "#a = os.path.abspath(dir + '\\\\new.txt')\n",
    "a\n",
    "\n",
    "#pd.read_csv()"
   ]
  },
  {
   "cell_type": "markdown",
   "metadata": {},
   "source": [
    "#### file traverser"
   ]
  },
  {
   "cell_type": "markdown",
   "metadata": {},
   "source": [
    "for dirpath,dir,files in os.walk(pic_dir):\n",
    "    print(typecheck(dirpath,dir,files))"
   ]
  },
  {
   "cell_type": "markdown",
   "metadata": {},
   "source": [
    "#### Import picture parser libs"
   ]
  },
  {
   "cell_type": "code",
   "execution_count": 4,
   "metadata": {},
   "outputs": [],
   "source": [
    "import numpy as np\n",
    "from skimage import io, color, exposure, transform\n",
    "from PIL import Image\n",
    "import os\n",
    "from os import listdir"
   ]
  },
  {
   "cell_type": "markdown",
   "metadata": {},
   "source": [
    "# questionable .jpg checker\n",
    "\n",
    "\n",
    "for filename in all_img_paths:\n",
    "    if filename.endswith('.jpg'):\n",
    "        try:\n",
    "            img = Image.open(dir+\"\\\\\"+filename) # open the image file\n",
    "            img.verify() # verify that it is, in fact an image\n",
    "        except (IOError, SyntaxError) as e:\n",
    "            print('Bad file:', filename)\n",
    "            #os.remove(base_dir+\"\\\\\"+filename) (Maybe)"
   ]
  },
  {
   "cell_type": "markdown",
   "metadata": {},
   "source": [
    "## <font color='red'> IMPT  </font>\n",
    "\n",
    "> __img = io.imread(path,plugin='matplotlib')__\n",
    "\n",
    "-- OTHERWISE A SYNTAX ERROR IS RETURNED"
   ]
  },
  {
   "cell_type": "code",
   "execution_count": 5,
   "metadata": {},
   "outputs": [
    {
     "name": "stdout",
     "output_type": "stream",
     "text": [
      "Completed\n"
     ]
    }
   ],
   "source": [
    "abspath = 'C:/Users/zouru/Documents/PythonProjects/opencv/experiment'\n",
    "pic_dir= r'new_zoom\\rz_pos5_white2'\n",
    "\n",
    "def mapper(lst,f):\n",
    "    return list(map(lambda x: f(x),lst))\n",
    "\n",
    "\n",
    "# set plugin = matplotlib'\n",
    "def preprocessimg(path):\n",
    "    img = io.imread(path,plugin='matplotlib')  \n",
    "    img = img/255\n",
    "    img = transform.resize(img,(64,114))\n",
    "    \n",
    "    # swap axes to make image from (224, 224, 3) to (3, 224, 224)\n",
    "    img = np.swapaxes(img, 0, 2)\n",
    "    img = np.swapaxes(img, 1, 2)\n",
    "    \n",
    "    return img\n",
    "\n",
    "\n",
    "\n",
    "all_img_paths = glob.glob(os.path.join(pic_dir, '*'))\n",
    "np.random.shuffle(all_img_paths)\n",
    "\n",
    "imgs=[]\n",
    "labels = []   #, not relevant here as no labels\n",
    "\n",
    "file_names = []\n",
    "for img_path in all_img_paths:\n",
    "        img = preprocessimg(img_path)\n",
    "        imgs.append(img)\n",
    "        \n",
    "        # label assignment\n",
    "        file_name= img_path.split('\\\\')[-1].replace('.jpg','')\n",
    "        \n",
    "        file_names.append(file_name)\n",
    "        \n",
    "        if int(file_name[1])>=5:\n",
    "            labels.append(0)\n",
    "        else:\n",
    "            labels.append(1)\n",
    " \n",
    "x = np.array(imgs, dtype='float32')\n",
    "y = np.eye(2,dtype='uint8')[mapper(labels,int)]\n",
    "\n",
    "print('Completed')"
   ]
  },
  {
   "cell_type": "code",
   "execution_count": 14,
   "metadata": {
    "scrolled": true
   },
   "outputs": [
    {
     "name": "stdout",
     "output_type": "stream",
     "text": [
      "[[0 1]\n",
      " [0 1]\n",
      " [0 1]\n",
      " [0 1]\n",
      " [0 1]\n",
      " [0 1]\n",
      " [0 1]\n",
      " [0 1]\n",
      " [0 1]\n",
      " [0 1]\n",
      " [0 1]\n",
      " [0 1]\n",
      " [0 1]\n",
      " [0 1]\n",
      " [0 1]\n",
      " [0 1]\n",
      " [0 1]\n",
      " [0 1]\n",
      " [0 1]\n",
      " [0 1]\n",
      " [0 1]\n",
      " [0 1]\n",
      " [0 1]\n",
      " [0 1]\n",
      " [0 1]\n",
      " [0 1]\n",
      " [0 1]\n",
      " [0 1]\n",
      " [0 1]\n",
      " [0 1]\n",
      " [0 1]\n",
      " [0 1]\n",
      " [0 1]\n",
      " [0 1]\n",
      " [0 1]\n",
      " [0 1]\n",
      " [0 1]\n",
      " [0 1]\n",
      " [0 1]\n",
      " [0 1]\n",
      " [0 1]\n",
      " [0 1]\n",
      " [0 1]\n",
      " [0 1]\n",
      " [0 1]\n",
      " [0 1]\n",
      " [0 1]\n",
      " [0 1]\n",
      " [0 1]\n",
      " [0 1]\n",
      " [0 1]\n",
      " [0 1]\n",
      " [0 1]\n",
      " [0 1]\n",
      " [0 1]\n",
      " [0 1]\n",
      " [0 1]\n",
      " [0 1]\n",
      " [0 1]\n",
      " [0 1]\n",
      " [0 1]\n",
      " [0 1]\n",
      " [0 1]\n",
      " [0 1]\n",
      " [0 1]\n",
      " [0 1]\n",
      " [0 1]\n",
      " [0 1]\n",
      " [0 1]\n",
      " [0 1]\n",
      " [0 1]\n",
      " [0 1]\n",
      " [0 1]\n",
      " [0 1]\n",
      " [0 1]\n",
      " [0 1]\n",
      " [0 1]\n",
      " [0 1]\n",
      " [0 1]\n",
      " [0 1]\n",
      " [0 1]\n",
      " [0 1]\n",
      " [0 1]\n",
      " [0 1]\n",
      " [0 1]\n",
      " [0 1]\n",
      " [0 1]\n",
      " [0 1]\n",
      " [0 1]\n",
      " [0 1]\n",
      " [0 1]\n",
      " [0 1]\n",
      " [0 1]\n",
      " [0 1]\n",
      " [0 1]\n",
      " [0 1]\n",
      " [0 1]\n",
      " [0 1]\n",
      " [0 1]\n",
      " [0 1]\n",
      " [0 1]]\n"
     ]
    },
    {
     "data": {
      "text/plain": [
       "(101, 2)"
      ]
     },
     "execution_count": 14,
     "metadata": {},
     "output_type": "execute_result"
    }
   ],
   "source": [
    "print(y)\n",
    "y.shape"
   ]
  },
  {
   "cell_type": "markdown",
   "metadata": {},
   "source": [
    "### syntax testing\n",
    "\n",
    "- all_img_paths[0].split('\\\\')[-1].replace('.jpg','')\n",
    "\n",
    "\n",
    "### testing path assignments for os module\n",
    "- os.path.join(pic_dir, '*')\n",
    "- tpath = os.path.join(os.path.normpath(abspath), pic_dir ) \n",
    "- q=os.path.join(tpath, '*.jpg')\n",
    "\n",
    "### finding filenames\n",
    "- all_img_paths[0].split('\\\\')\n",
    "\n",
    "### image resizing predicate\n",
    "- io.imread(all_img_paths[0]).shape,'aspect ratio is ', 360/640"
   ]
  },
  {
   "cell_type": "code",
   "execution_count": 6,
   "metadata": {},
   "outputs": [
    {
     "data": {
      "image/png": "[encoded data removed]",
      "text/plain": [
       "<Figure size 432x288 with 1 Axes>"
      ]
     },
     "metadata": {
      "needs_background": "light"
     },
     "output_type": "display_data"
    }
   ],
   "source": [
    "import matplotlib.pyplot as plt\n",
    "plt.imshow(io.imread(all_img_paths[0])/255) ;"
   ]
  },
  {
   "cell_type": "code",
   "execution_count": 7,
   "metadata": {},
   "outputs": [
    {
     "data": {
      "text/plain": [
       "'new_zoom\\\\rz_pos5_white2\\\\0498.jpg'"
      ]
     },
     "execution_count": 7,
     "metadata": {},
     "output_type": "execute_result"
    }
   ],
   "source": [
    "all_img_paths[0]"
   ]
  },
  {
   "cell_type": "code",
   "execution_count": 8,
   "metadata": {},
   "outputs": [
    {
     "data": {
      "text/plain": [
       "((101, 3, 64, 114), (101, 2))"
      ]
     },
     "execution_count": 8,
     "metadata": {},
     "output_type": "execute_result"
    }
   ],
   "source": [
    "x.shape,y.shape"
   ]
  },
  {
   "cell_type": "markdown",
   "metadata": {},
   "source": [
    "### model building"
   ]
  },
  {
   "cell_type": "code",
   "execution_count": 8,
   "metadata": {},
   "outputs": [
    {
     "name": "stderr",
     "output_type": "stream",
     "text": [
      "Using TensorFlow backend.\n"
     ]
    }
   ],
   "source": [
    "from keras.preprocessing.image import ImageDataGenerator\n",
    "from keras.models import Sequential, model_from_json\n",
    "from keras.layers.core import Dense, Dropout, Activation, Flatten\n",
    "from keras.layers.convolutional import Conv2D\n",
    "from keras.layers.pooling import MaxPooling2D\n",
    "\n",
    "from keras.optimizers import SGD\n",
    "from keras.utils import np_utils\n",
    "from keras.callbacks import LearningRateScheduler, ModelCheckpoint\n",
    "from keras import backend as K\n",
    "K.set_image_data_format('channels_first')\n",
    "\n",
    "from keras.preprocessing.image import ImageDataGenerator\n",
    "from keras.models import Sequential, model_from_json\n",
    "from keras.layers.core import Dense, Dropout, Activation, Flatten\n",
    "from keras.layers.convolutional import Conv2D\n",
    "from keras.layers.pooling import MaxPooling2D\n",
    "\n",
    "from keras.optimizers import SGD\n",
    "from keras.utils import np_utils\n",
    "from keras.callbacks import LearningRateScheduler, ModelCheckpoint\n",
    "from keras import backend as K\n",
    "K.set_image_data_format('channels_first')\n",
    "\n",
    "import tensorflow as tf\n",
    "import keras.backend.tensorflow_backend as tfback"
   ]
  },
  {
   "cell_type": "code",
   "execution_count": 9,
   "metadata": {},
   "outputs": [
    {
     "data": {
      "text/plain": [
       "['/device:GPU:0']"
      ]
     },
     "execution_count": 9,
     "metadata": {},
     "output_type": "execute_result"
    }
   ],
   "source": [
    "def _get_available_gpus():\n",
    "    \"\"\"Get a list of available gpu devices (formatted as strings).\n",
    "\n",
    "    # Returns\n",
    "        A list of available GPU devices.\n",
    "    \"\"\"\n",
    "    #global _LOCAL_DEVICES\n",
    "    if tfback._LOCAL_DEVICES is None:\n",
    "        devices = tf.config.list_logical_devices()\n",
    "        tfback._LOCAL_DEVICES = [x.name for x in devices]\n",
    "    return [x for x in tfback._LOCAL_DEVICES if 'device:gpu' in x.lower()]\n",
    "\n",
    "tfback._get_available_gpus = _get_available_gpus\n",
    "tfback._get_available_gpus()"
   ]
  },
  {
   "cell_type": "code",
   "execution_count": 52,
   "metadata": {},
   "outputs": [
    {
     "data": {
      "text/plain": [
       "(101, 3, 64, 114)"
      ]
     },
     "execution_count": 52,
     "metadata": {},
     "output_type": "execute_result"
    }
   ],
   "source": [
    "x.shape"
   ]
  },
  {
   "cell_type": "code",
   "execution_count": 107,
   "metadata": {},
   "outputs": [],
   "source": [
    "from sklearn.model_selection import train_test_split\n",
    "\n",
    "X_train, X_val, Y_train, Y_val = train_test_split(x, y, test_size=0.2, random_state=42)\n",
    "\n",
    "datagen = ImageDataGenerator(featurewise_center=False, \n",
    "                            featurewise_std_normalization=False, \n",
    "                            width_shift_range=0.1,\n",
    "                            height_shift_range=0.1,\n",
    "                            zoom_range=0.2,\n",
    "                            shear_range=0.1,\n",
    "                            rotation_range=10.,)\n",
    "\n",
    "datagen.fit(X_train)"
   ]
  },
  {
   "cell_type": "code",
   "execution_count": 120,
   "metadata": {},
   "outputs": [],
   "source": [
    "def cnn_model():\n",
    "    model = Sequential()\n",
    "\n",
    "    model.add(Conv2D(32, (5, 5), padding='same',\n",
    "                     input_shape=(3,64, 114),\n",
    "                     activation='relu'))\n",
    "    model.add(Conv2D(32, (3, 3), activation='relu'))\n",
    "    model.add(MaxPooling2D(pool_size=(2, 2)))\n",
    "    model.add(Dropout(0.2))\n",
    "\n",
    "    model.add(Flatten())\n",
    "    model.add(Dense(250, activation='relu'))\n",
    "    model.add(Dropout(0.5))\n",
    "    model.add(Dense(2, activation='softmax'))\n",
    "    return model\n",
    "\n",
    "model = cnn_model()\n",
    "# let's train the model using SGD + momentum (how original).\n",
    "lr = 0.01\n",
    "sgd = SGD(lr=lr, decay=1e-6, momentum=0.9, nesterov=True)\n",
    "model.compile(loss='categorical_crossentropy',\n",
    "          optimizer=sgd,\n",
    "          metrics=[tf.keras.metrics.AUC()])\n",
    "\n",
    "\n",
    "def lr_schedule(epoch):\n",
    "    return lr*(0.1**int(epoch/10))"
   ]
  },
  {
   "cell_type": "code",
   "execution_count": 54,
   "metadata": {},
   "outputs": [],
   "source": [
    "# what is flatten\n",
    "# what is dense\n",
    "# how to choose \n",
    "# note to write weights down into .h5 file for future use\n",
    "\n",
    "# why?\n",
    "#   swap axes to make image from (224, 224, 3) to (3, 224, 224)\n",
    "#    sample = np.swapaxes(sample, 0, 2)\n",
    "#    sample = np.swapaxes(sample, 1, 2)"
   ]
  },
  {
   "cell_type": "code",
   "execution_count": 121,
   "metadata": {
    "scrolled": true
   },
   "outputs": [
    {
     "name": "stdout",
     "output_type": "stream",
     "text": [
      "Epoch 1/15\n",
      "80/80 [==============================] - 10s 124ms/step - loss: 0.0049 - auc_28: 0.9998 - val_loss: 0.0000e+00 - val_auc_28: 1.0000\n",
      "Epoch 2/15\n",
      "80/80 [==============================] - 10s 128ms/step - loss: 0.0000e+00 - auc_28: 1.0000 - val_loss: 0.0000e+00 - val_auc_28: 1.0000\n",
      "Epoch 3/15\n",
      "80/80 [==============================] - 9s 112ms/step - loss: 0.0000e+00 - auc_28: 1.0000 - val_loss: 0.0000e+00 - val_auc_28: 1.0000\n",
      "Epoch 4/15\n",
      "80/80 [==============================] - 10s 126ms/step - loss: 0.0000e+00 - auc_28: 1.0000 - val_loss: 0.0000e+00 - val_auc_28: 1.0000\n",
      "Epoch 5/15\n",
      "80/80 [==============================] - 8s 106ms/step - loss: 0.0000e+00 - auc_28: 1.0000 - val_loss: 0.0000e+00 - val_auc_28: 1.0000\n",
      "Epoch 6/15\n",
      "80/80 [==============================] - 9s 115ms/step - loss: 0.0000e+00 - auc_28: 1.0000 - val_loss: 0.0000e+00 - val_auc_28: 1.0000\n",
      "Epoch 7/15\n",
      "80/80 [==============================] - 10s 121ms/step - loss: 0.0000e+00 - auc_28: 1.0000 - val_loss: 0.0000e+00 - val_auc_28: 1.0000\n",
      "Epoch 8/15\n",
      "80/80 [==============================] - 9s 110ms/step - loss: 0.0000e+00 - auc_28: 1.0000 - val_loss: 0.0000e+00 - val_auc_28: 1.0000\n",
      "Epoch 9/15\n",
      "80/80 [==============================] - 9s 109ms/step - loss: 0.0000e+00 - auc_28: 1.0000 - val_loss: 0.0000e+00 - val_auc_28: 1.0000\n",
      "Epoch 10/15\n",
      "80/80 [==============================] - 8s 106ms/step - loss: 0.0000e+00 - auc_28: 1.0000 - val_loss: 0.0000e+00 - val_auc_28: 1.0000\n",
      "Epoch 11/15\n",
      "80/80 [==============================] - 9s 111ms/step - loss: 0.0000e+00 - auc_28: 1.0000 - val_loss: 0.0000e+00 - val_auc_28: 1.0000\n",
      "Epoch 12/15\n",
      "80/80 [==============================] - 9s 111ms/step - loss: 0.0000e+00 - auc_28: 1.0000 - val_loss: 0.0000e+00 - val_auc_28: 1.0000\n",
      "Epoch 13/15\n",
      "80/80 [==============================] - 9s 114ms/step - loss: 0.0000e+00 - auc_28: 1.0000 - val_loss: 0.0000e+00 - val_auc_28: 1.0000\n",
      "Epoch 14/15\n",
      "80/80 [==============================] - 8s 102ms/step - loss: 0.0000e+00 - auc_28: 1.0000 - val_loss: 0.0000e+00 - val_auc_28: 1.0000\n",
      "Epoch 15/15\n",
      "80/80 [==============================] - 9s 112ms/step - loss: 0.0000e+00 - auc_28: 1.0000 - val_loss: 0.0000e+00 - val_auc_28: 1.0000\n"
     ]
    }
   ],
   "source": [
    "batch_size = 32\n",
    "nb_epoch = 15\n",
    "\n",
    "model_hist =model.fit_generator(datagen.flow(X_train, Y_train, batch_size=batch_size),\n",
    "                                steps_per_epoch=X_train.shape[0],\n",
    "                                epochs=nb_epoch,\n",
    "                                validation_data=(X_val, Y_val),\n",
    "                                callbacks=[LearningRateScheduler(lr_schedule),\n",
    "                                           ModelCheckpoint('model.h5',save_best_only=True)]\n",
    "                               )"
   ]
  },
  {
   "cell_type": "code",
   "execution_count": 13,
   "metadata": {},
   "outputs": [
    {
     "name": "stdout",
     "output_type": "stream",
     "text": [
      "Model: \"sequential_1\"\n",
      "_________________________________________________________________\n",
      "Layer (type)                 Output Shape              Param #   \n",
      "=================================================================\n",
      "conv2d_1 (Conv2D)            (None, 32, 64, 114)       2432      \n",
      "_________________________________________________________________\n",
      "conv2d_2 (Conv2D)            (None, 32, 62, 112)       9248      \n",
      "_________________________________________________________________\n",
      "max_pooling2d_1 (MaxPooling2 (None, 32, 31, 56)        0         \n",
      "_________________________________________________________________\n",
      "dropout_1 (Dropout)          (None, 32, 31, 56)        0         \n",
      "_________________________________________________________________\n",
      "flatten_1 (Flatten)          (None, 55552)             0         \n",
      "_________________________________________________________________\n",
      "dense_1 (Dense)              (None, 250)               13888250  \n",
      "_________________________________________________________________\n",
      "dropout_2 (Dropout)          (None, 250)               0         \n",
      "_________________________________________________________________\n",
      "dense_2 (Dense)              (None, 2)                 502       \n",
      "=================================================================\n",
      "Total params: 13,900,432\n",
      "Trainable params: 13,900,432\n",
      "Non-trainable params: 0\n",
      "_________________________________________________________________\n"
     ]
    }
   ],
   "source": [
    "model.summary()"
   ]
  },
  {
   "cell_type": "markdown",
   "metadata": {},
   "source": [
    "## Model needs to have significantly more white background in order to have be able to predict and recognise 0 values\n",
    "\n",
    "### calculating accuracy will make more sense since values consists of more than zeroes"
   ]
  },
  {
   "cell_type": "markdown",
   "metadata": {},
   "source": [
    "****\n",
    "<font color='red'> careful of wrong syntax </font>\n",
    "\n",
    "- np.array(both).shape\n",
    "- np.array(white).append(ben)\n",
    "\n",
    "' AttributeError: 'numpy.ndarray' object has no attribute 'append' '"
   ]
  },
  {
   "cell_type": "code",
   "execution_count": 14,
   "metadata": {},
   "outputs": [
    {
     "data": {
      "text/plain": [
       "array([1, 1], dtype=int64)"
      ]
     },
     "execution_count": 14,
     "metadata": {},
     "output_type": "execute_result"
    }
   ],
   "source": [
    "def read_img(name):\n",
    "    return io.imread(os.path.join(os.path.abspath('test\\\\'), f'{name}.jpg'))/255\n",
    "\n",
    "def img(name):\n",
    "    return os.path.join(os.path.abspath('test\\\\'), f'{name}.jpg')\n",
    "\n",
    "\n",
    "both=[]\n",
    "white = preprocessimg(img('white'))\n",
    "ben = preprocessimg(img('0118'))\n",
    "\n",
    "both.append(white)\n",
    "both.append(ben)\n",
    "both = np.array(both)\n",
    "\n",
    "\n",
    "y_pred1 = model.predict_classes(both)\n",
    "#acc = np.sum(y_pred==y_test)/np.size(y_pred)\n",
    "#print(\"Test accuracy = {}\".format(acc))\n",
    "y_pred1"
   ]
  },
  {
   "cell_type": "markdown",
   "metadata": {},
   "source": [
    "__use .predict_classes to get class__\n",
    "- picks the highest p value of n classes"
   ]
  },
  {
   "cell_type": "code",
   "execution_count": 15,
   "metadata": {},
   "outputs": [
    {
     "data": {
      "text/plain": [
       "<matplotlib.image.AxesImage at 0x270fc1420c8>"
      ]
     },
     "execution_count": 15,
     "metadata": {},
     "output_type": "execute_result"
    },
    {
     "data": {
      "image/png": "[encoded data removed]",
      "text/plain": [
       "<Figure size 432x288 with 1 Axes>"
      ]
     },
     "metadata": {
      "needs_background": "light"
     },
     "output_type": "display_data"
    }
   ],
   "source": [
    "plt.imshow(read_img('0118'))"
   ]
  },
  {
   "cell_type": "code",
   "execution_count": 16,
   "metadata": {},
   "outputs": [
    {
     "data": {
      "text/plain": [
       "<matplotlib.image.AxesImage at 0x270fc1bb448>"
      ]
     },
     "execution_count": 16,
     "metadata": {},
     "output_type": "execute_result"
    },
    {
     "data": {
      "image/png": "[encoded data removed]",
      "text/plain": [
       "<Figure size 432x288 with 1 Axes>"
      ]
     },
     "metadata": {
      "needs_background": "light"
     },
     "output_type": "display_data"
    }
   ],
   "source": [
    "plt.imshow(read_img('white'))"
   ]
  },
  {
   "cell_type": "markdown",
   "metadata": {},
   "source": [
    "<font color='orange'> undesirable, opens a windows viewer </font>\n",
    "\n",
    "from PIL import Image\n",
    "Image.open(img('0118')).show()\n"
   ]
  },
  {
   "cell_type": "markdown",
   "metadata": {},
   "source": [
    "***\n",
    "<font color='red'>  <ins> Demonstration of inaccuracy and absolute error </font> \n",
    "> when  model predicts even a plain white background to be label 1 <ins> \n",
    "***"
   ]
  },
  {
   "cell_type": "markdown",
   "metadata": {},
   "source": [
    "## Now I will include the white pictures"
   ]
  },
  {
   "cell_type": "code",
   "execution_count": 108,
   "metadata": {},
   "outputs": [
    {
     "name": "stdout",
     "output_type": "stream",
     "text": [
      "Completed\n"
     ]
    }
   ],
   "source": [
    "white_dir = 'new_zoom\\\\white'\n",
    "all_white_imgs = glob.glob(os.path.join(white_dir, '*'))\n",
    "\n",
    "# .extend()  &  .shuffle()  does not return anything does not require assignment\n",
    "all_white_imgs.extend(all_img_paths)\n",
    "np.random.shuffle(all_white_imgs)\n",
    "\n",
    "new_imgs=[]\n",
    "new_labels = []   #, not relevant here as no labels\n",
    "\n",
    "file_names = []\n",
    "for img_path in all_white_imgs:\n",
    "        img = preprocessimg(img_path)\n",
    "        imgs.append(img)\n",
    "        \n",
    "        # label assignment\n",
    "        file_name= img_path.split('\\\\')[-1].replace('.jpg','')\n",
    "        # file_names.append(file_name)\n",
    "        \n",
    "        if int(file_name[1])>=5:\n",
    "            labels.append(0)\n",
    "        else:\n",
    "            labels.append(1)\n",
    " \n",
    "x_comb = np.array(imgs, dtype='float32')\n",
    "\n",
    "#float_y = mapper(labels,int)\n",
    "y_comb = np.eye(2,dtype='uint8')[mapper(labels,int)]\n",
    "\n",
    "print('Completed')"
   ]
  },
  {
   "cell_type": "markdown",
   "metadata": {},
   "source": [
    "### Image datagen2 for white pics + rz pics tgr"
   ]
  },
  {
   "cell_type": "code",
   "execution_count": 18,
   "metadata": {},
   "outputs": [],
   "source": [
    "batch_size = 32\n",
    "nb_epoch = 15"
   ]
  },
  {
   "cell_type": "code",
   "execution_count": 109,
   "metadata": {},
   "outputs": [
    {
     "name": "stderr",
     "output_type": "stream",
     "text": [
      "C:\\Users\\zouru\\anaconda3\\envs\\tf-gpu\\lib\\site-packages\\keras_preprocessing\\image\\image_data_generator.py:940: UserWarning: Expected input to be images (as Numpy array) following the data format convention \"channels_last\" (channels on axis 3), i.e. expected either 1, 3 or 4 channels on axis 3. However, it was passed an array with shape (447, 3, 64, 114) (114 channels).\n",
      "  ' channels).')\n"
     ]
    }
   ],
   "source": [
    "X2_train, X2_val, Y2_train, Y2_val = train_test_split(x_comb, y_comb, test_size=0.2, random_state=42)\n",
    "\n",
    "datagen2 = ImageDataGenerator(featurewise_center=False, \n",
    "                            featurewise_std_normalization=False, \n",
    "                            width_shift_range=0.1,\n",
    "                            height_shift_range=0.1,\n",
    "                            zoom_range=0.2,\n",
    "                            shear_range=0.1,\n",
    "                            rotation_range=10.,)\n",
    "\n",
    "datagen2.fit(X2_train)"
   ]
  },
  {
   "cell_type": "code",
   "execution_count": 119,
   "metadata": {
    "scrolled": true
   },
   "outputs": [
    {
     "name": "stdout",
     "output_type": "stream",
     "text": [
      "Epoch 1/15\n",
      "447/447 [==============================] - 60s 133ms/step - loss: 0.1372 - auc_27: 0.9388 - val_loss: 8.0208e-06 - val_auc_27: 0.9868\n",
      "Epoch 2/15\n",
      "447/447 [==============================] - 55s 122ms/step - loss: 2.1042e-04 - auc_27: 0.9932 - val_loss: 5.5431e-06 - val_auc_27: 0.9964\n",
      "Epoch 3/15\n",
      "447/447 [==============================] - 56s 125ms/step - loss: 2.1962e-04 - auc_27: 0.9975 - val_loss: 7.7912e-07 - val_auc_27: 0.9982\n",
      "Epoch 4/15\n",
      "447/447 [==============================] - 55s 122ms/step - loss: 6.7871e-05 - auc_27: 0.9986 - val_loss: 1.1495e-07 - val_auc_27: 0.9989\n",
      "Epoch 5/15\n",
      "447/447 [==============================] - 55s 124ms/step - loss: 1.3231e-04 - auc_27: 0.9991 - val_loss: 2.8099e-07 - val_auc_27: 0.9993\n",
      "Epoch 6/15\n",
      "447/447 [==============================] - 56s 125ms/step - loss: 3.3757e-05 - auc_27: 0.9994 - val_loss: 1.1495e-07 - val_auc_27: 0.9994\n",
      "Epoch 7/15\n",
      "447/447 [==============================] - 64s 143ms/step - loss: 1.4038e-04 - auc_27: 0.9995 - val_loss: 5.4856e-05 - val_auc_27: 0.9996\n",
      "Epoch 8/15\n",
      "447/447 [==============================] - 61s 136ms/step - loss: 7.9069e-05 - auc_27: 0.9996 - val_loss: 2.5545e-08 - val_auc_27: 0.9996\n",
      "Epoch 9/15\n",
      "447/447 [==============================] - 57s 128ms/step - loss: 2.3581e-05 - auc_27: 0.9997 - val_loss: 1.2772e-08 - val_auc_27: 0.9997\n",
      "Epoch 10/15\n",
      "447/447 [==============================] - 61s 136ms/step - loss: 2.1922e-05 - auc_27: 0.9997 - val_loss: 1.2772e-08 - val_auc_27: 0.9997\n",
      "Epoch 11/15\n",
      "447/447 [==============================] - 58s 130ms/step - loss: 4.6749e-05 - auc_27: 0.9998 - val_loss: 1.2772e-08 - val_auc_27: 0.9998\n",
      "Epoch 12/15\n",
      "447/447 [==============================] - 62s 139ms/step - loss: 1.1070e-05 - auc_27: 0.9998 - val_loss: 1.2772e-08 - val_auc_27: 0.9998\n",
      "Epoch 13/15\n",
      "447/447 [==============================] - 64s 142ms/step - loss: 7.4560e-06 - auc_27: 0.9998 - val_loss: 1.2772e-08 - val_auc_27: 0.9998\n",
      "Epoch 14/15\n",
      "447/447 [==============================] - 62s 138ms/step - loss: 1.7708e-05 - auc_27: 0.9998 - val_loss: 1.2772e-08 - val_auc_27: 0.9998\n",
      "Epoch 15/15\n",
      "447/447 [==============================] - 54s 121ms/step - loss: 1.1946e-05 - auc_27: 0.9998 - val_loss: 1.2772e-08 - val_auc_27: 0.9999\n"
     ]
    }
   ],
   "source": [
    "model2 = cnn_model()\n",
    "\n",
    "sgd = SGD(lr=lr, decay=1e-6, momentum=0.9, nesterov=True)\n",
    "\n",
    "\n",
    "model2.compile(loss='categorical_crossentropy',\n",
    "          optimizer=sgd,\n",
    "          metrics=[tf.keras.metrics.AUC()])\n",
    "\n",
    "\n",
    "model2_hist =model2.fit_generator(datagen2.flow(X2_train, Y2_train, batch_size=batch_size),\n",
    "                                steps_per_epoch=X2_train.shape[0],\n",
    "                                epochs=nb_epoch,\n",
    "                                validation_data=(X2_val, Y2_val),\n",
    "                                callbacks=[LearningRateScheduler(lr_schedule),\n",
    "                                           ModelCheckpoint('model2.h5',save_best_only=True)]\n",
    "                               )\n"
   ]
  },
  {
   "cell_type": "code",
   "execution_count": 27,
   "metadata": {},
   "outputs": [
    {
     "data": {
      "text/plain": [
       "array([1, 1], dtype=int64)"
      ]
     },
     "execution_count": 27,
     "metadata": {},
     "output_type": "execute_result"
    }
   ],
   "source": [
    "def read_img(name):\n",
    "    return io.imread(os.path.join(os.path.abspath('test\\\\'), f'{name}.jpg'))/255\n",
    "\n",
    "def img(name):\n",
    "    return os.path.join(os.path.abspath('test\\\\'), f'{name}.jpg')\n",
    "\n",
    "both=[]\n",
    "white = preprocessimg(img('white'))\n",
    "ben = preprocessimg(img('0118'))\n",
    "\n",
    "both.append(white)\n",
    "both.append(ben)\n",
    "both = np.array(both)\n",
    "\n",
    "\n",
    "y_pred1 = model.predict_classes(both)\n",
    "#acc = np.sum(y_pred==y_test)/np.size(y_pred)\n",
    "#print(\"Test accuracy = {}\".format(acc))\n",
    "y_pred1"
   ]
  },
  {
   "cell_type": "code",
   "execution_count": 28,
   "metadata": {},
   "outputs": [],
   "source": [
    "def imgf(folder_dir,filename):\n",
    "    return os.path.join(os.path.normpath(f'{folder_dir}'), f'{filename}.jpg')"
   ]
  },
  {
   "cell_type": "code",
   "execution_count": 29,
   "metadata": {},
   "outputs": [],
   "source": [
    "rz_pos6 = preprocessimg(imgf('new_zoom\\\\rz_pos6_white','0003'))"
   ]
  },
  {
   "cell_type": "code",
   "execution_count": 30,
   "metadata": {},
   "outputs": [],
   "source": [
    "def appendlst2np(*args):\n",
    "    new=[]\n",
    "    for i in args:\n",
    "        new.append(i)\n",
    "    return np.array(new)"
   ]
  },
  {
   "cell_type": "code",
   "execution_count": 31,
   "metadata": {},
   "outputs": [
    {
     "data": {
      "text/plain": [
       "array([0, 1, 0], dtype=int64)"
      ]
     },
     "execution_count": 31,
     "metadata": {},
     "output_type": "execute_result"
    }
   ],
   "source": [
    "new_comb = appendlst2np(white,ben,rz_pos6)\n",
    "model2.predict_classes(new_comb)"
   ]
  },
  {
   "cell_type": "markdown",
   "metadata": {},
   "source": [
    "***\n",
    "# <ins> Lets see how  the first model faired </ins>\n",
    "\n",
    "note the difference in the 1st & 2nd model\n",
    "    - 1st model is not trained with white pics"
   ]
  },
  {
   "cell_type": "code",
   "execution_count": 40,
   "metadata": {},
   "outputs": [
    {
     "data": {
      "text/plain": [
       "array([1, 1, 1], dtype=int64)"
      ]
     },
     "execution_count": 40,
     "metadata": {},
     "output_type": "execute_result"
    }
   ],
   "source": [
    "model.predict_classes(new_comb)"
   ]
  },
  {
   "cell_type": "markdown",
   "metadata": {},
   "source": [
    "# increasing layers, same data ( w/ white backgrounds )"
   ]
  },
  {
   "cell_type": "code",
   "execution_count": 117,
   "metadata": {},
   "outputs": [],
   "source": [
    "def deep_model():\n",
    "    model = Sequential()\n",
    "\n",
    "    # 1st convblock\n",
    "    model.add(Conv2D(32, (3, 3), padding='same',\n",
    "                     input_shape=(3, 64,114),\n",
    "                     activation='relu'))\n",
    "    model.add(Conv2D(32, (3, 3), activation='relu'))\n",
    "    model.add(MaxPooling2D(pool_size=(2, 2)))\n",
    "    model.add(Dropout(0.2))\n",
    "    \n",
    "    # 2nd conv block\n",
    "    model.add(Conv2D(64, (3, 3), padding='same',\n",
    "                     activation='relu'))\n",
    "    model.add(Conv2D(64, (3, 3), activation='relu'))\n",
    "    model.add(MaxPooling2D(pool_size=(2, 2)))\n",
    "    model.add(Dropout(0.2))\n",
    "    \n",
    "    # 3rd conv block\n",
    "    model.add(Conv2D(128, (3, 3), padding='same',\n",
    "                     activation='relu'))\n",
    "    model.add(Conv2D(128, (3, 3), activation='relu'))\n",
    "    model.add(MaxPooling2D(pool_size=(2, 2)))\n",
    "    model.add(Dropout(0.2))\n",
    "    \n",
    "\n",
    "    model.add(Flatten())\n",
    "    model.add(Dense(230, activation='relu'))\n",
    "    model.add(Dropout(0.3))\n",
    "    model.add(Dense(2, activation='softmax'))\n",
    "    \n",
    "    return model\n",
    "\n",
    "\n",
    "\n",
    "model3 = deep_model()\n",
    "\n",
    "\n",
    "# let's train the model using SGD + momentum (how original).\n",
    "lr = 0.01\n",
    "sgd = SGD(lr=lr, decay=1e-6, momentum=0.9, nesterov=True)\n",
    "\n",
    "\n",
    "# compile model\n",
    "model3.compile(loss='categorical_crossentropy',\n",
    "          optimizer=sgd,\n",
    "          metrics=[tf.keras.metrics.AUC()])"
   ]
  },
  {
   "cell_type": "code",
   "execution_count": 118,
   "metadata": {
    "scrolled": true
   },
   "outputs": [
    {
     "name": "stdout",
     "output_type": "stream",
     "text": [
      "Epoch 1/15\n",
      "447/447 [==============================] - 67s 150ms/step - loss: 0.2793 - auc_26: 0.8984 - val_loss: 0.0021 - val_auc_26: 0.9444\n",
      "Epoch 2/15\n",
      "447/447 [==============================] - 62s 139ms/step - loss: 5.7176e-04 - auc_26: 0.9722 - val_loss: 0.0021 - val_auc_26: 0.9860\n",
      "Epoch 3/15\n",
      "447/447 [==============================] - 63s 142ms/step - loss: 3.5273e-05 - auc_26: 0.9907 - val_loss: 9.5564e-04 - val_auc_26: 0.9938\n",
      "Epoch 4/15\n",
      "447/447 [==============================] - 64s 144ms/step - loss: 2.3331e-05 - auc_26: 0.9953 - val_loss: 5.1192e-04 - val_auc_26: 0.9965\n",
      "Epoch 5/15\n",
      "447/447 [==============================] - 55s 123ms/step - loss: 7.7954e-05 - auc_26: 0.9972 - val_loss: 4.4094e-05 - val_auc_26: 0.9977\n",
      "Epoch 6/15\n",
      "447/447 [==============================] - 58s 130ms/step - loss: 4.4594e-06 - auc_26: 0.9981 - val_loss: 2.6257e-05 - val_auc_26: 0.9984\n",
      "Epoch 7/15\n",
      "447/447 [==============================] - 70s 156ms/step - loss: 3.3385e-06 - auc_26: 0.9986 - val_loss: 1.9285e-05 - val_auc_26: 0.9988\n",
      "Epoch 8/15\n",
      "447/447 [==============================] - 58s 129ms/step - loss: 1.7857e-06 - auc_26: 0.9990 - val_loss: 1.4930e-05 - val_auc_26: 0.9991\n",
      "Epoch 9/15\n",
      "447/447 [==============================] - 58s 129ms/step - loss: 1.7547e-06 - auc_26: 0.9992 - val_loss: 1.0741e-05 - val_auc_26: 0.9993\n",
      "Epoch 10/15\n",
      "447/447 [==============================] - 65s 145ms/step - loss: 4.4505e-06 - auc_26: 0.9994 - val_loss: 1.7497e-05 - val_auc_26: 0.9994\n",
      "Epoch 11/15\n",
      "447/447 [==============================] - 60s 134ms/step - loss: 1.4807e-06 - auc_26: 0.9995 - val_loss: 1.6641e-05 - val_auc_26: 0.9995\n",
      "Epoch 12/15\n",
      "447/447 [==============================] - 58s 130ms/step - loss: 6.4920e-06 - auc_26: 0.9996 - val_loss: 1.5339e-05 - val_auc_26: 0.9996\n",
      "Epoch 13/15\n",
      "447/447 [==============================] - 63s 140ms/step - loss: 1.7368e-06 - auc_26: 0.9996 - val_loss: 1.4675e-05 - val_auc_26: 0.9997\n",
      "Epoch 14/15\n",
      "447/447 [==============================] - 60s 134ms/step - loss: 1.5254e-06 - auc_26: 0.9997 - val_loss: 1.4215e-05 - val_auc_26: 0.9997\n",
      "Epoch 15/15\n",
      "447/447 [==============================] - 57s 128ms/step - loss: 4.1738e-06 - auc_26: 0.9997 - val_loss: 1.5390e-05 - val_auc_26: 0.9997\n"
     ]
    },
    {
     "data": {
      "text/plain": [
       "<keras.callbacks.callbacks.History at 0x2712d5fb488>"
      ]
     },
     "execution_count": 118,
     "metadata": {},
     "output_type": "execute_result"
    }
   ],
   "source": [
    "model3.fit_generator(datagen2.flow(X2_train, Y2_train, batch_size=batch_size),\n",
    "                                steps_per_epoch=X2_train.shape[0],\n",
    "                                epochs=nb_epoch,\n",
    "                                validation_data=(X2_val, Y2_val),\n",
    "                                callbacks=[LearningRateScheduler(lr_schedule),\n",
    "                                           ModelCheckpoint('model3.h5',save_best_only=True)]\n",
    "                               )"
   ]
  },
  {
   "cell_type": "code",
   "execution_count": 35,
   "metadata": {},
   "outputs": [
    {
     "data": {
      "text/plain": [
       "array([1, 1, 1], dtype=int64)"
      ]
     },
     "execution_count": 35,
     "metadata": {},
     "output_type": "execute_result"
    }
   ],
   "source": [
    "#(white,ben,rz_pos6)\n",
    "model3.predict_classes(new_comb)"
   ]
  },
  {
   "cell_type": "markdown",
   "metadata": {},
   "source": [
    "## including new data, with rz_pos_6"
   ]
  },
  {
   "cell_type": "code",
   "execution_count": 36,
   "metadata": {},
   "outputs": [],
   "source": [
    "all_pos6_img = glob.glob(os.path.join('new_zoom\\\\rz_pos6_white', '*' ) )\n",
    "\n",
    "def parser(img_dir_list):\n",
    "    np.random.shuffle(img_dir_list)\n",
    "\n",
    "    new_imgs=[]\n",
    "    new_labels = []   #, not relevant here as no labels\n",
    "\n",
    "    file_names = []\n",
    "    for img_path in img_dir_list:\n",
    "            img = preprocessimg(img_path)\n",
    "            imgs.append(img)\n",
    "\n",
    "            # label assignment\n",
    "            file_name= img_path.split('\\\\')[-1].replace('.jpg','')\n",
    "            # file_names.append(file_name)\n",
    "\n",
    "#             if int(file_name[1]) not in [3,4]:\n",
    "#                 labels.append(0)\n",
    "#             else:\n",
    "            labels.append(1)\n",
    "\n",
    "    x_comb = np.array(imgs, dtype='float32')\n",
    "\n",
    "\n",
    "    y_comb = np.eye(2,dtype='uint8')[mapper(labels,int)]\n",
    "    \n",
    "    return x_comb,y_comb"
   ]
  },
  {
   "cell_type": "markdown",
   "metadata": {},
   "source": [
    "#### ONLY rz_pos6 data"
   ]
  },
  {
   "cell_type": "code",
   "execution_count": 37,
   "metadata": {},
   "outputs": [],
   "source": [
    "x3,y3 = parser(all_pos6_img)"
   ]
  },
  {
   "cell_type": "code",
   "execution_count": 116,
   "metadata": {
    "scrolled": true
   },
   "outputs": [
    {
     "name": "stdout",
     "output_type": "stream",
     "text": [
      "Epoch 1/10\n",
      "447/447 [==============================] - 61s 136ms/step - loss: 0.1292 - auc_25: 0.9416 - val_loss: 2.2643e-05 - val_auc_25: 0.9882\n",
      "Epoch 2/10\n",
      "447/447 [==============================] - 64s 142ms/step - loss: 2.1661e-05 - auc_25: 0.9941 - val_loss: 4.3553e-06 - val_auc_25: 0.9971\n",
      "Epoch 3/10\n",
      "447/447 [==============================] - 60s 134ms/step - loss: 8.7656e-06 - auc_25: 0.9980 - val_loss: 2.0947e-06 - val_auc_25: 0.9987\n",
      "Epoch 4/10\n",
      "447/447 [==============================] - 61s 137ms/step - loss: 5.6082e-06 - auc_25: 0.9990 - val_loss: 1.1751e-06 - val_auc_25: 0.9993\n",
      "Epoch 5/10\n",
      "447/447 [==============================] - 64s 143ms/step - loss: 4.5426e-06 - auc_25: 0.9994 - val_loss: 1.2517e-06 - val_auc_25: 0.9995\n",
      "Epoch 6/10\n",
      "447/447 [==============================] - 65s 145ms/step - loss: 2.9320e-06 - auc_25: 0.9996 - val_loss: 6.2585e-07 - val_auc_25: 0.9997\n",
      "Epoch 7/10\n",
      "447/447 [==============================] - 60s 134ms/step - loss: 3.2813e-06 - auc_25: 0.9997 - val_loss: 1.0473e-06 - val_auc_25: 0.9998\n",
      "Epoch 8/10\n",
      "447/447 [==============================] - 60s 134ms/step - loss: 2.0344e-06 - auc_25: 0.9998 - val_loss: 3.9594e-07 - val_auc_25: 0.9998\n",
      "Epoch 9/10\n",
      "447/447 [==============================] - 63s 140ms/step - loss: 1.4539e-06 - auc_25: 0.9998 - val_loss: 2.9377e-07 - val_auc_25: 0.9999\n",
      "Epoch 10/10\n",
      "447/447 [==============================] - 67s 150ms/step - loss: 1.6440e-06 - auc_25: 0.9999 - val_loss: 3.7040e-07 - val_auc_25: 0.9999\n"
     ]
    }
   ],
   "source": [
    "def deep_model2():\n",
    "    model = Sequential()\n",
    "\n",
    "    # 1st convblock\n",
    "    model.add(Conv2D(32, (5, 5), padding='same',\n",
    "                     input_shape=(3, 64,114),\n",
    "                     activation='relu'))\n",
    "    model.add(Conv2D(32, (5, 5), activation='relu'))\n",
    "    model.add(MaxPooling2D(pool_size=(2, 2)))\n",
    "    model.add(Dropout(0.2))\n",
    "    \n",
    "    \n",
    "    # 2nd conv block\n",
    "    model.add(Conv2D(64, (5, 5), padding='same',\n",
    "                     activation='relu'))\n",
    "    model.add(Conv2D(64, (5, 5), activation='relu'))\n",
    "    model.add(MaxPooling2D(pool_size=(2, 2)))\n",
    "    model.add(Dropout(0.2))\n",
    "   \n",
    "\n",
    "    # 3rd conv block\n",
    "    model.add(Conv2D(128, (5, 5), padding='same',\n",
    "                     activation='relu'))\n",
    "    model.add(Conv2D(128, (5, 5), activation='relu'))\n",
    "    model.add(MaxPooling2D(pool_size=(2, 2)))\n",
    "    model.add(Dropout(0.2))\n",
    "    \n",
    "    # 4rd conv block \n",
    "    model.add(Flatten())\n",
    "    model.add(Dense(230, activation='relu'))\n",
    "    model.add(Dropout(0.3))\n",
    "    model.add(Dense(2, activation='softmax'))\n",
    "    \n",
    "    return model\n",
    "\n",
    "\n",
    "with tf.device('/GPU:0'):\n",
    "    model4 = deep_model2()\n",
    "    # let's train the model using SGD + momentum (how original)\n",
    "\n",
    "    lr = 0.01\n",
    "    sgd = SGD(lr=lr, decay=1e-6, momentum=0.9, nesterov=True)\n",
    "\n",
    "\n",
    "    # compile model\n",
    "    model4.compile(loss='categorical_crossentropy',\n",
    "              optimizer=sgd,\n",
    "              metrics=[tf.keras.metrics.AUC()])\n",
    "\n",
    "\n",
    "    model4_hist = model4.fit_generator( datagen2.flow(X2_train, Y2_train, batch_size=batch_size),\n",
    "                                    steps_per_epoch=X2_train.shape[0],\n",
    "                                    epochs=10,\n",
    "                                    validation_data=(X2_val, Y2_val),\n",
    "                                    callbacks=[LearningRateScheduler(lr_schedule),\n",
    "                                               ModelCheckpoint('model4.h5',save_best_only=True)] )"
   ]
  },
  {
   "cell_type": "code",
   "execution_count": null,
   "metadata": {},
   "outputs": [],
   "source": [
    "# predicts that rz_pos_6 is indeed rz\n",
    "# data consists of only rz_pos_6\n",
    "\n",
    "y_pred4 = model4.predict_classes(x3)\n",
    "\n",
    "\n",
    "TPR = (y_pred4==1).sum() / y3.size\n",
    "TPR"
   ]
  },
  {
   "cell_type": "code",
   "execution_count": 43,
   "metadata": {},
   "outputs": [
    {
     "data": {
      "text/plain": [
       "array([0, 1, 0], dtype=int64)"
      ]
     },
     "execution_count": 43,
     "metadata": {},
     "output_type": "execute_result"
    }
   ],
   "source": [
    "#(white,ben,rz_pos6)\n",
    "model4.predict_classes(new_comb)"
   ]
  },
  {
   "cell_type": "markdown",
   "metadata": {},
   "source": []
  },
  {
   "cell_type": "markdown",
   "metadata": {},
   "source": [
    "***\n",
    "\n",
    "# Testing dataset"
   ]
  },
  {
   "cell_type": "code",
   "execution_count": 80,
   "metadata": {},
   "outputs": [],
   "source": [
    "test = glob.glob(os.path.join('new_zoom\\\\test_data', '*' ) )\n",
    "\n",
    "\n",
    "def mapper(lst,f):\n",
    "    return list(map(lambda x: f(x),lst))\n",
    "\n",
    "\n",
    "# set plugin = matplotlib'\n",
    "def preprocessimg(path):\n",
    "    img = io.imread(path,plugin='matplotlib')  \n",
    "    img = img/255\n",
    "    img = transform.resize(img,(64,114))\n",
    "    \n",
    "    # swap axes to make image from (224, 224, 3) to (3, 224, 224)\n",
    "    img = np.swapaxes(img, 0, 2)\n",
    "    img = np.swapaxes(img, 1, 2)\n",
    "    \n",
    "    return img\n",
    "\n",
    "\n",
    "def parser(img_dir_list):\n",
    "    np.random.shuffle(img_dir_list)\n",
    "\n",
    "    new_imgs=[]\n",
    "    new_labels = []   #, not relevant here as no labels\n",
    "\n",
    "    file_names = []\n",
    "    for img_path in img_dir_list:\n",
    "            img = preprocessimg(img_path)\n",
    "            new_imgs.append(img)\n",
    "\n",
    "            # label assignment\n",
    "            \n",
    "            file_name = img_path.split('\\\\')[-1].replace('.jpg','')\n",
    "            # file_names.append(file_name)\n",
    "\n",
    "            #second digit\n",
    "            if int(file_name[1]) not in [1,2,3,4]:\n",
    "                 new_labels.append(0)\n",
    "            else:\n",
    "                new_labels.append(1)\n",
    "\n",
    "    x_comb = np.array(new_imgs)\n",
    "\n",
    "    y_comb = np.eye(2,dtype='uint8')[mapper(new_labels,int)]\n",
    "    \n",
    "    return x_comb,y_comb"
   ]
  },
  {
   "cell_type": "markdown",
   "metadata": {},
   "source": [
    "# check labelling is done correctly\n",
    "for img_path in test:\n",
    "    file_name = img_path.split('\\\\')[-1].replace('.jpg','')\n",
    "    print(file_name)\n",
    "    print(int(file_name[1]))"
   ]
  },
  {
   "cell_type": "code",
   "execution_count": 81,
   "metadata": {},
   "outputs": [],
   "source": [
    "xtest,ytest = parser(test)"
   ]
  },
  {
   "cell_type": "markdown",
   "metadata": {},
   "source": [
    "***\n",
    "# [ Asessment ]\n",
    "***"
   ]
  },
  {
   "cell_type": "markdown",
   "metadata": {},
   "source": [
    "***\n",
    "# Model 1"
   ]
  },
  {
   "cell_type": "code",
   "execution_count": 130,
   "metadata": {},
   "outputs": [
    {
     "name": "stdout",
     "output_type": "stream",
     "text": [
      "426/426 [==============================] - 0s 654us/step\n"
     ]
    },
    {
     "data": {
      "text/plain": [
       "[145.51704449720785, 0.9907712936401367]"
      ]
     },
     "execution_count": 130,
     "metadata": {},
     "output_type": "execute_result"
    }
   ],
   "source": [
    "model.evaluate( xtest, ytest , verbose=1 )"
   ]
  },
  {
   "cell_type": "code",
   "execution_count": 131,
   "metadata": {},
   "outputs": [
    {
     "name": "stdout",
     "output_type": "stream",
     "text": [
      "Model: \"sequential_37\"\n",
      "_________________________________________________________________\n",
      "Layer (type)                 Output Shape              Param #   \n",
      "=================================================================\n",
      "conv2d_170 (Conv2D)          (None, 32, 64, 114)       2432      \n",
      "_________________________________________________________________\n",
      "conv2d_171 (Conv2D)          (None, 32, 62, 112)       9248      \n",
      "_________________________________________________________________\n",
      "max_pooling2d_87 (MaxPooling (None, 32, 31, 56)        0         \n",
      "_________________________________________________________________\n",
      "dropout_123 (Dropout)        (None, 32, 31, 56)        0         \n",
      "_________________________________________________________________\n",
      "flatten_37 (Flatten)         (None, 55552)             0         \n",
      "_________________________________________________________________\n",
      "dense_73 (Dense)             (None, 250)               13888250  \n",
      "_________________________________________________________________\n",
      "dropout_124 (Dropout)        (None, 250)               0         \n",
      "_________________________________________________________________\n",
      "dense_74 (Dense)             (None, 2)                 502       \n",
      "=================================================================\n",
      "Total params: 13,900,432\n",
      "Trainable params: 13,900,432\n",
      "Non-trainable params: 0\n",
      "_________________________________________________________________\n"
     ]
    }
   ],
   "source": [
    "model.summary()"
   ]
  },
  {
   "cell_type": "markdown",
   "metadata": {},
   "source": [
    "***\n",
    "# Model 2"
   ]
  },
  {
   "cell_type": "code",
   "execution_count": 132,
   "metadata": {},
   "outputs": [
    {
     "name": "stdout",
     "output_type": "stream",
     "text": [
      "426/426 [==============================] - 0s 666us/step\n"
     ]
    },
    {
     "data": {
      "text/plain": [
       "[8.701884813711677, 0.9983693361282349]"
      ]
     },
     "execution_count": 132,
     "metadata": {},
     "output_type": "execute_result"
    }
   ],
   "source": [
    "model2.evaluate( xtest, ytest , verbose=1 )"
   ]
  },
  {
   "cell_type": "code",
   "execution_count": 133,
   "metadata": {},
   "outputs": [
    {
     "name": "stdout",
     "output_type": "stream",
     "text": [
      "Model: \"sequential_36\"\n",
      "_________________________________________________________________\n",
      "Layer (type)                 Output Shape              Param #   \n",
      "=================================================================\n",
      "conv2d_168 (Conv2D)          (None, 32, 64, 114)       2432      \n",
      "_________________________________________________________________\n",
      "conv2d_169 (Conv2D)          (None, 32, 62, 112)       9248      \n",
      "_________________________________________________________________\n",
      "max_pooling2d_86 (MaxPooling (None, 32, 31, 56)        0         \n",
      "_________________________________________________________________\n",
      "dropout_121 (Dropout)        (None, 32, 31, 56)        0         \n",
      "_________________________________________________________________\n",
      "flatten_36 (Flatten)         (None, 55552)             0         \n",
      "_________________________________________________________________\n",
      "dense_71 (Dense)             (None, 250)               13888250  \n",
      "_________________________________________________________________\n",
      "dropout_122 (Dropout)        (None, 250)               0         \n",
      "_________________________________________________________________\n",
      "dense_72 (Dense)             (None, 2)                 502       \n",
      "=================================================================\n",
      "Total params: 13,900,432\n",
      "Trainable params: 13,900,432\n",
      "Non-trainable params: 0\n",
      "_________________________________________________________________\n"
     ]
    }
   ],
   "source": [
    "model2.summary()"
   ]
  },
  {
   "cell_type": "markdown",
   "metadata": {},
   "source": [
    "***\n",
    "# Model 3"
   ]
  },
  {
   "cell_type": "code",
   "execution_count": 134,
   "metadata": {},
   "outputs": [
    {
     "name": "stdout",
     "output_type": "stream",
     "text": [
      "426/426 [==============================] - 0s 894us/step\n"
     ]
    },
    {
     "data": {
      "text/plain": [
       "[14.071976773615734, 0.9982091784477234]"
      ]
     },
     "execution_count": 134,
     "metadata": {},
     "output_type": "execute_result"
    }
   ],
   "source": [
    "model3.evaluate( xtest, ytest , verbose=1 )"
   ]
  },
  {
   "cell_type": "code",
   "execution_count": 127,
   "metadata": {},
   "outputs": [
    {
     "name": "stdout",
     "output_type": "stream",
     "text": [
      "Model: \"sequential_35\"\n",
      "_________________________________________________________________\n",
      "Layer (type)                 Output Shape              Param #   \n",
      "=================================================================\n",
      "conv2d_162 (Conv2D)          (None, 32, 64, 114)       896       \n",
      "_________________________________________________________________\n",
      "conv2d_163 (Conv2D)          (None, 32, 62, 112)       9248      \n",
      "_________________________________________________________________\n",
      "max_pooling2d_83 (MaxPooling (None, 32, 31, 56)        0         \n",
      "_________________________________________________________________\n",
      "dropout_117 (Dropout)        (None, 32, 31, 56)        0         \n",
      "_________________________________________________________________\n",
      "conv2d_164 (Conv2D)          (None, 64, 31, 56)        18496     \n",
      "_________________________________________________________________\n",
      "conv2d_165 (Conv2D)          (None, 64, 29, 54)        36928     \n",
      "_________________________________________________________________\n",
      "max_pooling2d_84 (MaxPooling (None, 64, 14, 27)        0         \n",
      "_________________________________________________________________\n",
      "dropout_118 (Dropout)        (None, 64, 14, 27)        0         \n",
      "_________________________________________________________________\n",
      "conv2d_166 (Conv2D)          (None, 128, 14, 27)       73856     \n",
      "_________________________________________________________________\n",
      "conv2d_167 (Conv2D)          (None, 128, 12, 25)       147584    \n",
      "_________________________________________________________________\n",
      "max_pooling2d_85 (MaxPooling (None, 128, 6, 12)        0         \n",
      "_________________________________________________________________\n",
      "dropout_119 (Dropout)        (None, 128, 6, 12)        0         \n",
      "_________________________________________________________________\n",
      "flatten_35 (Flatten)         (None, 9216)              0         \n",
      "_________________________________________________________________\n",
      "dense_69 (Dense)             (None, 230)               2119910   \n",
      "_________________________________________________________________\n",
      "dropout_120 (Dropout)        (None, 230)               0         \n",
      "_________________________________________________________________\n",
      "dense_70 (Dense)             (None, 2)                 462       \n",
      "=================================================================\n",
      "Total params: 2,407,380\n",
      "Trainable params: 2,407,380\n",
      "Non-trainable params: 0\n",
      "_________________________________________________________________\n"
     ]
    }
   ],
   "source": [
    "model3.summary()"
   ]
  },
  {
   "cell_type": "markdown",
   "metadata": {},
   "source": [
    "***\n",
    "# Model 4"
   ]
  },
  {
   "cell_type": "code",
   "execution_count": 135,
   "metadata": {},
   "outputs": [
    {
     "name": "stdout",
     "output_type": "stream",
     "text": [
      "426/426 [==============================] - 0s 948us/step\n"
     ]
    },
    {
     "data": {
      "text/plain": [
       "[9.215025910749121, 0.9976353049278259]"
      ]
     },
     "execution_count": 135,
     "metadata": {},
     "output_type": "execute_result"
    }
   ],
   "source": [
    "model4.evaluate( xtest, ytest , verbose=1 )"
   ]
  },
  {
   "cell_type": "code",
   "execution_count": 129,
   "metadata": {},
   "outputs": [
    {
     "name": "stdout",
     "output_type": "stream",
     "text": [
      "Model: \"sequential_34\"\n",
      "_________________________________________________________________\n",
      "Layer (type)                 Output Shape              Param #   \n",
      "=================================================================\n",
      "conv2d_156 (Conv2D)          (None, 32, 64, 114)       2432      \n",
      "_________________________________________________________________\n",
      "conv2d_157 (Conv2D)          (None, 32, 60, 110)       25632     \n",
      "_________________________________________________________________\n",
      "max_pooling2d_80 (MaxPooling (None, 32, 30, 55)        0         \n",
      "_________________________________________________________________\n",
      "dropout_113 (Dropout)        (None, 32, 30, 55)        0         \n",
      "_________________________________________________________________\n",
      "conv2d_158 (Conv2D)          (None, 64, 30, 55)        51264     \n",
      "_________________________________________________________________\n",
      "conv2d_159 (Conv2D)          (None, 64, 26, 51)        102464    \n",
      "_________________________________________________________________\n",
      "max_pooling2d_81 (MaxPooling (None, 64, 13, 25)        0         \n",
      "_________________________________________________________________\n",
      "dropout_114 (Dropout)        (None, 64, 13, 25)        0         \n",
      "_________________________________________________________________\n",
      "conv2d_160 (Conv2D)          (None, 128, 13, 25)       204928    \n",
      "_________________________________________________________________\n",
      "conv2d_161 (Conv2D)          (None, 128, 9, 21)        409728    \n",
      "_________________________________________________________________\n",
      "max_pooling2d_82 (MaxPooling (None, 128, 4, 10)        0         \n",
      "_________________________________________________________________\n",
      "dropout_115 (Dropout)        (None, 128, 4, 10)        0         \n",
      "_________________________________________________________________\n",
      "flatten_34 (Flatten)         (None, 5120)              0         \n",
      "_________________________________________________________________\n",
      "dense_67 (Dense)             (None, 230)               1177830   \n",
      "_________________________________________________________________\n",
      "dropout_116 (Dropout)        (None, 230)               0         \n",
      "_________________________________________________________________\n",
      "dense_68 (Dense)             (None, 2)                 462       \n",
      "=================================================================\n",
      "Total params: 1,974,740\n",
      "Trainable params: 1,974,740\n",
      "Non-trainable params: 0\n",
      "_________________________________________________________________\n"
     ]
    }
   ],
   "source": [
    "model4.summary()"
   ]
  },
  {
   "cell_type": "code",
   "execution_count": 136,
   "metadata": {},
   "outputs": [
    {
     "data": {
      "text/plain": [
       "array([1, 1, 1], dtype=int64)"
      ]
     },
     "execution_count": 136,
     "metadata": {},
     "output_type": "execute_result"
    }
   ],
   "source": [
    "# (white,ben,rz_pos6)\n",
    "model.predict_classes(new_comb)"
   ]
  },
  {
   "cell_type": "code",
   "execution_count": 138,
   "metadata": {},
   "outputs": [
    {
     "data": {
      "text/plain": [
       "array([0, 1, 1], dtype=int64)"
      ]
     },
     "execution_count": 138,
     "metadata": {},
     "output_type": "execute_result"
    }
   ],
   "source": [
    "model2.predict_classes(new_comb)"
   ]
  },
  {
   "cell_type": "code",
   "execution_count": 140,
   "metadata": {},
   "outputs": [
    {
     "data": {
      "text/plain": [
       "array([0, 1, 1], dtype=int64)"
      ]
     },
     "execution_count": 140,
     "metadata": {},
     "output_type": "execute_result"
    }
   ],
   "source": [
    "model3.predict_classes(new_comb)"
   ]
  },
  {
   "cell_type": "code",
   "execution_count": 137,
   "metadata": {},
   "outputs": [
    {
     "data": {
      "text/plain": [
       "array([0, 1, 1], dtype=int64)"
      ]
     },
     "execution_count": 137,
     "metadata": {},
     "output_type": "execute_result"
    }
   ],
   "source": [
    "#(white,ben,rz_pos6)\n",
    "model4.predict_classes(new_comb)"
   ]
  },
  {
   "cell_type": "code",
   "execution_count": null,
   "metadata": {},
   "outputs": [],
   "source": []
  }
 ],
 "metadata": {
  "kernelspec": {
   "display_name": "Python 3",
   "language": "python",
   "name": "python3"
  },
  "language_info": {
   "codemirror_mode": {
    "name": "ipython",
    "version": 3
   },
   "file_extension": ".py",
   "mimetype": "text/x-python",
   "name": "python",
   "nbconvert_exporter": "python",
   "pygments_lexer": "ipython3",
   "version": "3.7.7"
  }
 },
 "nbformat": 4,
 "nbformat_minor": 4
}
