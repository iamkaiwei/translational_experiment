{
  "nbformat": 4,
  "nbformat_minor": 0,
  "metadata": {
    "colab": {
      "name": "\"HelloWorld\".ipynb",
      "provenance": [],
      "include_colab_link": true
    },
    "kernelspec": {
      "name": "python3",
      "display_name": "Python 3"
    },
    "accelerator": "GPU"
  },
  "cells": [
    {
      "cell_type": "markdown",
      "metadata": {
        "id": "view-in-github",
        "colab_type": "text"
      },
      "source": [
        "<a href=\"https://colab.research.google.com/github/iamkaiwei/translational_experiment/blob/master/%22HelloWorld%22.ipynb\" target=\"_parent\"><img src=\"https://colab.research.google.com/assets/colab-badge.svg\" alt=\"Open In Colab\"/></a>"
      ]
    },
    {
      "cell_type": "code",
      "metadata": {
        "id": "SJwJwyEmXhMi",
        "colab_type": "code",
        "colab": {
          "base_uri": "https://localhost:8080/",
          "height": 72
        },
        "outputId": "0d9aaf6d-2367-4cd2-d630-a977a3a2118f"
      },
      "source": [
        "import numpy as np\n",
        "import pandas as pd\n",
        "import seaborn as sns\n",
        "import matplotlib.pyplot as plt\n",
        "%matplotlib inline\n",
        "import json #create the json\n",
        "import shutil #copy images to train, test and valid dirs\n",
        "import os #files and dirs manipulation\n",
        "import math #split calculate"
      ],
      "execution_count": null,
      "outputs": [
        {
          "output_type": "stream",
          "text": [
            "/usr/local/lib/python3.6/dist-packages/statsmodels/tools/_testing.py:19: FutureWarning: pandas.util.testing is deprecated. Use the functions in the public API at pandas.testing instead.\n",
            "  import pandas.util.testing as tm\n"
          ],
          "name": "stderr"
        }
      ]
    },
    {
      "cell_type": "code",
      "metadata": {
        "id": "dTLp2l-N6L9N",
        "colab_type": "code",
        "colab": {}
      },
      "source": [
        ""
      ],
      "execution_count": null,
      "outputs": []
    },
    {
      "cell_type": "code",
      "metadata": {
        "id": "drTDwzokRicu",
        "colab_type": "code",
        "colab": {
          "base_uri": "https://localhost:8080/",
          "height": 35
        },
        "outputId": "2add2675-c755-4899-ceb0-5102f11ff642"
      },
      "source": [
        "from keras.models import Sequential\n",
        "from keras.layers import Conv2D\n",
        "from keras.layers import MaxPooling2D\n",
        "from keras.layers import Flatten\n",
        "from keras.layers import Dense"
      ],
      "execution_count": null,
      "outputs": [
        {
          "output_type": "stream",
          "text": [
            "Using TensorFlow backend.\n"
          ],
          "name": "stderr"
        }
      ]
    },
    {
      "cell_type": "code",
      "metadata": {
        "id": "-7nigM3ErTgH",
        "colab_type": "code",
        "colab": {}
      },
      "source": [
        "\n",
        "%matplotlib inline\n",
        "import matplotlib.pyplot as ply\n",
        "\n",
        "import os, json\n",
        "from glob import glob\n",
        "\n",
        "import keras\n",
        "import keras.utils\n",
        "from keras import utils as np_utils\n",
        "from keras import utils as np_utils\n",
        "import tensorflow as tf\n",
        "from keras.preprocessing.image import ImageDataGenerator\n"
      ],
      "execution_count": null,
      "outputs": []
    },
    {
      "cell_type": "code",
      "metadata": {
        "id": "7FXEa0sEeeLt",
        "colab_type": "code",
        "colab": {
          "base_uri": "https://localhost:8080/",
          "height": 125
        },
        "outputId": "74ae5ccb-e862-4a7e-f2b4-606841c77888"
      },
      "source": [
        "from google.colab import drive\n",
        "drive.mount('/content/drive')"
      ],
      "execution_count": null,
      "outputs": [
        {
          "output_type": "stream",
          "text": [
            "Go to this URL in a browser: https://accounts.google.com/o/oauth2/auth?client_id=947318989803-6bn6qk8qdgf4n4g3pfee6491hc0brc4i.apps.googleusercontent.com&redirect_uri=urn%3aietf%3awg%3aoauth%3a2.0%3aoob&response_type=code&scope=email%20https%3a%2f%2fwww.googleapis.com%2fauth%2fdocs.test%20https%3a%2f%2fwww.googleapis.com%2fauth%2fdrive%20https%3a%2f%2fwww.googleapis.com%2fauth%2fdrive.photos.readonly%20https%3a%2f%2fwww.googleapis.com%2fauth%2fpeopleapi.readonly\n",
            "\n",
            "Enter your authorization code:\n",
            "··········\n",
            "Mounted at /content/drive\n"
          ],
          "name": "stdout"
        }
      ]
    },
    {
      "cell_type": "code",
      "metadata": {
        "id": "Wb6UOVrvfKH-",
        "colab_type": "code",
        "colab": {}
      },
      "source": [
        "#path configuration\n",
        "parent_dir = '/content/drive/My Drive/Dataset'\n",
        "path = \"/content/drive/My Drive/Dataset/training\"\n",
        "validation_data_dir = \"/content/drive/My Drive/Dataset/validation\"\n",
        "test_dir=\"/content/drive/My Drive/Dataset/test\""
      ],
      "execution_count": null,
      "outputs": []
    },
    {
      "cell_type": "code",
      "metadata": {
        "id": "vo_dvjGho8BL",
        "colab_type": "code",
        "colab": {
          "base_uri": "https://localhost:8080/",
          "height": 52
        },
        "outputId": "d924e248-8d66-4664-d31b-85612261cdc9"
      },
      "source": [
        "train_batches = ImageDataGenerator().flow_from_directory(path, target_size=(224,224), classes=['n0', 'n1'], batch_size=10)\n",
        "valid_batches = ImageDataGenerator().flow_from_directory(validation_data_dir, target_size=(224,224), classes=['n0', 'n1'], batch_size=4)"
      ],
      "execution_count": null,
      "outputs": [
        {
          "output_type": "stream",
          "text": [
            "Found 199 images belonging to 2 classes.\n",
            "Found 38 images belonging to 2 classes.\n"
          ],
          "name": "stdout"
        }
      ]
    },
    {
      "cell_type": "code",
      "metadata": {
        "id": "-l8xbZpRTJHX",
        "colab_type": "code",
        "colab": {}
      },
      "source": [
        "model = Sequential()\n",
        "model.add(Conv2D(32, kernel_size=(3, 3), strides=(1, 1),\n",
        "                 activation='relu',\n",
        "                 input_shape=(224,224,3)))\n",
        "model.add(MaxPooling2D(pool_size=(2, 2), strides=(2, 2)))\n",
        "model.add(Conv2D(64, (3, 3), activation='relu'))\n",
        "model.add(MaxPooling2D(pool_size=(2, 2)))\n",
        "model.add(Conv2D(128, (3, 3), activation='relu'))\n",
        "model.add(MaxPooling2D(pool_size=(2, 2)))\n",
        "model.add(Flatten())\n",
        "# model.add(Dense(1000, activation='relu'))\n",
        "model.add(Dense(2, activation='softmax'))"
      ],
      "execution_count": null,
      "outputs": []
    },
    {
      "cell_type": "code",
      "metadata": {
        "id": "S_1KNPDpZDKE",
        "colab_type": "code",
        "colab": {
          "base_uri": "https://localhost:8080/",
          "height": 437
        },
        "outputId": "09972ae1-7a82-4abf-959d-580a69c86a57"
      },
      "source": [
        "model.summary()"
      ],
      "execution_count": null,
      "outputs": [
        {
          "output_type": "stream",
          "text": [
            "Model: \"sequential_1\"\n",
            "_________________________________________________________________\n",
            "Layer (type)                 Output Shape              Param #   \n",
            "=================================================================\n",
            "conv2d_1 (Conv2D)            (None, 222, 222, 32)      896       \n",
            "_________________________________________________________________\n",
            "max_pooling2d_1 (MaxPooling2 (None, 111, 111, 32)      0         \n",
            "_________________________________________________________________\n",
            "conv2d_2 (Conv2D)            (None, 109, 109, 64)      18496     \n",
            "_________________________________________________________________\n",
            "max_pooling2d_2 (MaxPooling2 (None, 54, 54, 64)        0         \n",
            "_________________________________________________________________\n",
            "conv2d_3 (Conv2D)            (None, 52, 52, 128)       73856     \n",
            "_________________________________________________________________\n",
            "max_pooling2d_3 (MaxPooling2 (None, 26, 26, 128)       0         \n",
            "_________________________________________________________________\n",
            "flatten_1 (Flatten)          (None, 86528)             0         \n",
            "_________________________________________________________________\n",
            "dense_1 (Dense)              (None, 2)                 173058    \n",
            "=================================================================\n",
            "Total params: 266,306\n",
            "Trainable params: 266,306\n",
            "Non-trainable params: 0\n",
            "_________________________________________________________________\n"
          ],
          "name": "stdout"
        }
      ]
    },
    {
      "cell_type": "code",
      "metadata": {
        "id": "6lV_2-lSXjZ4",
        "colab_type": "code",
        "colab": {}
      },
      "source": [
        "from keras.optimizers import Adam\n",
        "# compiling the sequential model\n",
        "model.compile(Adam(lr=.0001), loss='categorical_crossentropy', metrics=[tf.keras.metrics.AUC()])\n"
      ],
      "execution_count": null,
      "outputs": []
    },
    {
      "cell_type": "code",
      "metadata": {
        "id": "5QyJmiXfwO_P",
        "colab_type": "code",
        "colab": {
          "base_uri": "https://localhost:8080/",
          "height": 385
        },
        "outputId": "ec06f449-c2ff-4239-e9cc-47dddbad49b3"
      },
      "source": [
        "model.fit_generator(train_batches, steps_per_epoch=4,validation_data=valid_batches\n",
        "                    ,validation_steps=4, epochs=10,verbose=2)"
      ],
      "execution_count": null,
      "outputs": [
        {
          "output_type": "stream",
          "text": [
            "Epoch 1/10\n",
            " - 1s - loss: 1.1921e-08 - auc: 0.8302 - val_loss: 0.0000e+00 - val_auc: 0.8380\n",
            "Epoch 2/10\n",
            " - 0s - loss: 0.0000e+00 - auc: 0.8466 - val_loss: 0.0000e+00 - val_auc: 0.8530\n",
            "Epoch 3/10\n",
            " - 1s - loss: 1.4066e-06 - auc: 0.8601 - val_loss: 1.3226e-04 - val_auc: 0.8652\n",
            "Epoch 4/10\n",
            " - 0s - loss: 2.3662e-04 - auc: 0.8711 - val_loss: 0.0036 - val_auc: 0.8754\n",
            "Epoch 5/10\n",
            " - 0s - loss: 0.0075 - auc: 0.8797 - val_loss: 3.5588e-04 - val_auc: 0.8832\n",
            "Epoch 6/10\n",
            " - 1s - loss: 6.2466e-04 - auc: 0.8873 - val_loss: 2.2717e-04 - val_auc: 0.8908\n",
            "Epoch 7/10\n",
            " - 0s - loss: 9.2510e-05 - auc: 0.8948 - val_loss: 4.7684e-07 - val_auc: 0.8978\n",
            "Epoch 8/10\n",
            " - 0s - loss: 2.6612e-06 - auc: 0.9014 - val_loss: 0.0000e+00 - val_auc: 0.9039\n",
            "Epoch 9/10\n",
            " - 0s - loss: 5.0624e-07 - auc: 0.9069 - val_loss: 2.9802e-08 - val_auc: 0.9093\n",
            "Epoch 10/10\n",
            " - 0s - loss: 4.4703e-08 - auc: 0.9121 - val_loss: 0.0000e+00 - val_auc: 0.9142\n"
          ],
          "name": "stdout"
        },
        {
          "output_type": "execute_result",
          "data": {
            "text/plain": [
              "<keras.callbacks.callbacks.History at 0x7ff10b1ed6a0>"
            ]
          },
          "metadata": {
            "tags": []
          },
          "execution_count": 24
        }
      ]
    },
    {
      "cell_type": "code",
      "metadata": {
        "id": "VeAarDr_qyLH",
        "colab_type": "code",
        "colab": {}
      },
      "source": [
        "model.save_weights('attempt2.h5')"
      ],
      "execution_count": null,
      "outputs": []
    },
    {
      "cell_type": "code",
      "metadata": {
        "id": "z2LI8dcsrdH5",
        "colab_type": "code",
        "colab": {
          "base_uri": "https://localhost:8080/",
          "height": 35
        },
        "outputId": "12ef19f5-c9e0-4dfe-88dc-3be8badd72f0"
      },
      "source": [
        "test_batches = ImageDataGenerator().flow_from_directory(test_dir, target_size=(224,224), classes=['n0', 'n1'], batch_size=10)"
      ],
      "execution_count": null,
      "outputs": [
        {
          "output_type": "stream",
          "text": [
            "Found 11 images belonging to 2 classes.\n"
          ],
          "name": "stdout"
        }
      ]
    },
    {
      "cell_type": "code",
      "metadata": {
        "id": "eHFwbHHbslfE",
        "colab_type": "code",
        "colab": {}
      },
      "source": [
        "test_imgs, test_labels = next(test_batches)"
      ],
      "execution_count": null,
      "outputs": []
    },
    {
      "cell_type": "code",
      "metadata": {
        "id": "8xfFUQSbtte_",
        "colab_type": "code",
        "colab": {
          "base_uri": "https://localhost:8080/",
          "height": 192
        },
        "outputId": "cd5ebecc-25ea-4ee0-8800-a2fd490d4647"
      },
      "source": [
        "test_labels"
      ],
      "execution_count": null,
      "outputs": [
        {
          "output_type": "execute_result",
          "data": {
            "text/plain": [
              "array([[0., 1.],\n",
              "       [1., 0.],\n",
              "       [0., 1.],\n",
              "       [0., 1.],\n",
              "       [1., 0.],\n",
              "       [1., 0.],\n",
              "       [0., 1.],\n",
              "       [1., 0.],\n",
              "       [1., 0.],\n",
              "       [0., 1.]], dtype=float32)"
            ]
          },
          "metadata": {
            "tags": []
          },
          "execution_count": 28
        }
      ]
    },
    {
      "cell_type": "code",
      "metadata": {
        "id": "h1daFEg3tUCQ",
        "colab_type": "code",
        "colab": {}
      },
      "source": [
        "predictions = model.predict_generator(test_batches, steps=1, verbose=0)"
      ],
      "execution_count": null,
      "outputs": []
    },
    {
      "cell_type": "code",
      "metadata": {
        "id": "GPDqITMftc46",
        "colab_type": "code",
        "colab": {
          "base_uri": "https://localhost:8080/",
          "height": 192
        },
        "outputId": "4cf4381b-1f0d-4f9a-e3f6-e824270f6c72"
      },
      "source": [
        "predictions"
      ],
      "execution_count": null,
      "outputs": [
        {
          "output_type": "execute_result",
          "data": {
            "text/plain": [
              "array([[4.9315711e-37, 1.0000000e+00],\n",
              "       [1.0000000e+00, 4.8669579e-09],\n",
              "       [0.0000000e+00, 1.0000000e+00],\n",
              "       [0.0000000e+00, 1.0000000e+00],\n",
              "       [1.0000000e+00, 3.9539194e-13],\n",
              "       [9.9999988e-01, 7.6981571e-08],\n",
              "       [3.1685522e-37, 1.0000000e+00],\n",
              "       [9.9999452e-01, 5.4552788e-06],\n",
              "       [1.0000000e+00, 1.1108750e-08],\n",
              "       [6.3231110e-38, 1.0000000e+00]], dtype=float32)"
            ]
          },
          "metadata": {
            "tags": []
          },
          "execution_count": 30
        }
      ]
    },
    {
      "cell_type": "code",
      "metadata": {
        "id": "8oDwPOXn1ktd",
        "colab_type": "code",
        "colab": {}
      },
      "source": [
        "test2_dir=\"/content/drive/My Drive/Dataset/test2\""
      ],
      "execution_count": null,
      "outputs": []
    },
    {
      "cell_type": "code",
      "metadata": {
        "id": "tYCTDlyH1i2S",
        "colab_type": "code",
        "colab": {
          "base_uri": "https://localhost:8080/",
          "height": 35
        },
        "outputId": "d553a183-19c6-4e76-90c3-744a0e9eb1f5"
      },
      "source": [
        "test2_batches = ImageDataGenerator().flow_from_directory(test2_dir, target_size=(224,224), classes=['n0', 'n1'], batch_size=14)"
      ],
      "execution_count": null,
      "outputs": [
        {
          "output_type": "stream",
          "text": [
            "Found 28 images belonging to 2 classes.\n"
          ],
          "name": "stdout"
        }
      ]
    },
    {
      "cell_type": "code",
      "metadata": {
        "id": "b7N2THiz2OFG",
        "colab_type": "code",
        "colab": {}
      },
      "source": [
        "test2_imgs, test2_labels = next(test2_batches)"
      ],
      "execution_count": null,
      "outputs": []
    },
    {
      "cell_type": "code",
      "metadata": {
        "id": "-IOtog-U2RLm",
        "colab_type": "code",
        "colab": {
          "base_uri": "https://localhost:8080/",
          "height": 262
        },
        "outputId": "1742cfb9-a380-49c3-fcbc-ec1c58536415"
      },
      "source": [
        "test2_labels"
      ],
      "execution_count": null,
      "outputs": [
        {
          "output_type": "execute_result",
          "data": {
            "text/plain": [
              "array([[0., 1.],\n",
              "       [0., 1.],\n",
              "       [1., 0.],\n",
              "       [1., 0.],\n",
              "       [0., 1.],\n",
              "       [0., 1.],\n",
              "       [0., 1.],\n",
              "       [1., 0.],\n",
              "       [0., 1.],\n",
              "       [1., 0.],\n",
              "       [0., 1.],\n",
              "       [1., 0.],\n",
              "       [1., 0.],\n",
              "       [0., 1.]], dtype=float32)"
            ]
          },
          "metadata": {
            "tags": []
          },
          "execution_count": 34
        }
      ]
    },
    {
      "cell_type": "code",
      "metadata": {
        "id": "0bMvbasw13wx",
        "colab_type": "code",
        "colab": {}
      },
      "source": [
        "predictions2 = model.predict_generator(test2_batches, steps=1, verbose=0)"
      ],
      "execution_count": null,
      "outputs": []
    },
    {
      "cell_type": "code",
      "metadata": {
        "id": "dk3Wd0c62NO2",
        "colab_type": "code",
        "colab": {
          "base_uri": "https://localhost:8080/",
          "height": 262
        },
        "outputId": "c7581fe5-d1cb-486c-d128-12076458e279"
      },
      "source": [
        "predictions2"
      ],
      "execution_count": null,
      "outputs": [
        {
          "output_type": "execute_result",
          "data": {
            "text/plain": [
              "array([[8.87963331e-25, 1.00000000e+00],\n",
              "       [5.71554857e-16, 1.00000000e+00],\n",
              "       [3.81349532e-16, 1.00000000e+00],\n",
              "       [8.49618420e-24, 1.00000000e+00],\n",
              "       [1.35640247e-23, 1.00000000e+00],\n",
              "       [6.85660804e-15, 1.00000000e+00],\n",
              "       [5.68774600e-18, 1.00000000e+00],\n",
              "       [1.94802530e-16, 1.00000000e+00],\n",
              "       [9.10708331e-16, 1.00000000e+00],\n",
              "       [6.86216543e-27, 1.00000000e+00],\n",
              "       [1.31901532e-16, 1.00000000e+00],\n",
              "       [3.31026704e-23, 1.00000000e+00],\n",
              "       [8.09553264e-15, 1.00000000e+00],\n",
              "       [1.15012714e-17, 1.00000000e+00]], dtype=float32)"
            ]
          },
          "metadata": {
            "tags": []
          },
          "execution_count": 36
        }
      ]
    }
  ]
}
